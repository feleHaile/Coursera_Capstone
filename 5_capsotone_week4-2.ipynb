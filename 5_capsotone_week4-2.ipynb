{
 "cells": [
  {
   "cell_type": "markdown",
   "metadata": {},
   "source": [
    "#### Suggestions for TOP venues in Lisbon!\n",
    "#### Capstone Project - week 4"
   ]
  },
  {
   "cell_type": "markdown",
   "metadata": {},
   "source": [
    "Hi there!\n",
    "<br>\n",
    "I am Joana, a citizen from Setúbal, in Portugal.\n",
    "<br>\n",
    "## Introduction - Description of the problem and a discussion of the background\n",
    "You probably don't know **Setúbal**, it is 40Km from Lisboa, heading South, and it has beautiful beaches and mountains, and it is famous by the grilled fish restaurants and fried cuttlefish. In the last years, it has started to bloom with tourists.<br>\n",
    "This raises a major opportunity for many business owners and entrepreneurs, mostly in the **food & leisure industry**. Nonetheless, without proper planing and market insights, some of them don't succeeded, close their business or even go bankrupt.<br>\n",
    "This situation raises a huge economic and social concern.Luckily there are great examples that we can learn from, such as New York city and Toronto. Being one of the top destinations for tourists worldwide since years, they still provide diversity and quality for all tastes. <br>\n",
    "Therefore this project aims to provide insights from these two cities, which will definitely aid **business owners and all the stakeholders, including local authorities and the citizens**, to succeed and hence, make **Setúbal a great destination** for all."
   ]
  },
  {
   "cell_type": "markdown",
   "metadata": {},
   "source": [
    "### Thank you for reading!\n",
    "This notebook was created by [Joana Loureiro]. \n",
    "This notebook is part of a course on **Coursera** called *Applied Data Science Capstone*. "
   ]
  }
 ],
 "metadata": {
  "kernelspec": {
   "display_name": "Python 3",
   "language": "python",
   "name": "python3"
  },
  "language_info": {
   "codemirror_mode": {
    "name": "ipython",
    "version": 3
   },
   "file_extension": ".py",
   "mimetype": "text/x-python",
   "name": "python",
   "nbconvert_exporter": "python",
   "pygments_lexer": "ipython3",
   "version": "3.6.8"
  }
 },
 "nbformat": 4,
 "nbformat_minor": 2
}
